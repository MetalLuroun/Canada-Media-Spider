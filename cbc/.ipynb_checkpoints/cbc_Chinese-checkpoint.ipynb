{
 "cells": [
  {
   "cell_type": "code",
   "execution_count": null,
   "metadata": {},
   "outputs": [],
   "source": [
    "import requests\n",
    "import json\n",
    "import csv\n",
    "from bs4 import BeautifulSoup"
   ]
  },
  {
   "cell_type": "code",
   "execution_count": null,
   "metadata": {},
   "outputs": [],
   "source": [
    "keyword = input(\"Enter your keyword you want to search on CBC : \")"
   ]
  },
  {
   "cell_type": "code",
   "execution_count": null,
   "metadata": {},
   "outputs": [],
   "source": [
    "url = \"https://www.cbc.ca/search_api/v1/search?q=\"+keyword+\"&sortOrder=relevance&media=all&page=1&fields=feed\"\n",
    "\n",
    "payload={}\n",
    "proxy = {\"http\":\"http://127.0.0.1:1080\"}\n",
    "headers = {\n",
    "  'Cookie': 'ak_bmsc=BCFA0EFD51299994F99272BAA0B8EF36CB4A4366867200008CF9D15FE146BB38~pl2LIPKFBQH/EK2obC7OAumwF639qrPwPsePvjfU87QrnOUKXhrFluflBoWrb3Vwxhhhlz9XwWkplZ1QDb/Gh17M1ZV5m6D/iAe3y1/lmIU4VA7ZOiQ/eq4MUivDa+DRtyqzeObyp74sJDvHB3ekeFVlRUI/dNqkGwGXpduxJszlzPXHpEOMSt0gUenwWqk2VMR6A/ySCpOMIpbWrcly5cAaElqOQ2d3Y656zQfhaumbE='\n",
    "}"
   ]
  },
  {
   "cell_type": "code",
   "execution_count": null,
   "metadata": {},
   "outputs": [],
   "source": [
    "class Article:\n",
    "    times = 0\n",
    "    def __init__(self):\n",
    "        self.title = \"\"\n",
    "        self.description = \"\"\n",
    "        self.time = \"\"\n",
    "        self.url = \"\"\n",
    "        self.content = \"\"\n",
    "        Article.times = Article.times + 1\n",
    "    def printOne(self):\n",
    "        print(self.title)\n",
    "        print(self.description)\n",
    "        print(self.time)\n",
    "        print(self.url)\n",
    "        print(self.content)\n",
    "    def getContent(self):\n",
    "        contentResponse = requests.request(\"GET\" , self.url, headers = headers , data = payload , proxies = proxy)\n",
    "        soup = BeautifulSoup(contentResponse.text , \"html.parser\")\n",
    "        for i in soup.find(class_ = \"story\").find_all(\"p\"):\n",
    "            self.content += i.get_text()"
   ]
  },
  {
   "cell_type": "code",
   "execution_count": null,
   "metadata": {},
   "outputs": [],
   "source": [
    "with open(keyword+'.csv', 'w', newline='' , encoding = \"utf-8\") as csvfile:\n",
    "    cbc_China = csv.writer(csvfile, delimiter=',', quoting=csv.QUOTE_MINIMAL)\n",
    "    cbc_China.writerow([\"title\"] + ['description'] + ['publishtime'] + ['url'] + ['content'])"
   ]
  },
  {
   "cell_type": "code",
   "execution_count": null,
   "metadata": {},
   "outputs": [],
   "source": [
    "from bs4 import BeautifulSoup\n",
    "def parseCbcPage(html):\n",
    "    soup = BeautifulSoup(html , \"html.parser\")\n",
    "    story = soup.find(class_ = \"story\")\n",
    "    "
   ]
  },
  {
   "cell_type": "code",
   "execution_count": null,
   "metadata": {},
   "outputs": [],
   "source": [
    "num = 1\n",
    "while True:\n",
    "\n",
    "    response = requests.request(\"GET\", \"https://www.cbc.ca/search_api/v1/search?q=china&sortOrder=relevance&media=all&page=\" + str(num) + \"&fields=feed\", headers=headers, data=payload , proxies = proxy)\n",
    "    print(response.status_code)\n",
    "    if not (response.status_code == 200):\n",
    "        print(\"----------请求已越界-----------------\")\n",
    "        break\n",
    "    else:\n",
    "        data = json.loads(response.text)\n",
    "        for i in data:\n",
    "            article = Article()\n",
    "            print(\"this is the article : \" + str(Article.times))\n",
    "            try:\n",
    "                article.title = i['title']\n",
    "            except:\n",
    "                pass\n",
    "\n",
    "            try:\n",
    "                article.description = i['description']\n",
    "            except:\n",
    "                pass\n",
    "            try:\n",
    "                article.time = i['publishtime']\n",
    "            except:\n",
    "                pass\n",
    "            try:\n",
    "                article.url = i['url'].replace(\"//\" , \"\")\n",
    "                try:\n",
    "                    article.getContent()\n",
    "                except:\n",
    "                    pass\n",
    "            except:\n",
    "                pass\n",
    "            article.printOne()\n",
    "            with open(keyword+'.csv', 'a', newline='' , encoding = \"utf-8\") as csvfile:\n",
    "                cbc_China = csv.writer(csvfile, delimiter=',', quoting=csv.QUOTE_MINIMAL)\n",
    "                cbc_China.writerow([article.title]  + [article.description] + [article.time] + [article.url] + [article.content])\n",
    "            print(\"-----------------------------------------------------------------------------------------\")\n",
    "            num += 1"
   ]
  },
  {
   "cell_type": "code",
   "execution_count": null,
   "metadata": {},
   "outputs": [],
   "source": []
  }
 ],
 "metadata": {
  "kernelspec": {
   "display_name": "Python 3",
   "language": "python",
   "name": "python3"
  },
  "language_info": {
   "codemirror_mode": {
    "name": "ipython",
    "version": 3
   },
   "file_extension": ".py",
   "mimetype": "text/x-python",
   "name": "python",
   "nbconvert_exporter": "python",
   "pygments_lexer": "ipython3",
   "version": "3.8.3"
  }
 },
 "nbformat": 4,
 "nbformat_minor": 4
}
