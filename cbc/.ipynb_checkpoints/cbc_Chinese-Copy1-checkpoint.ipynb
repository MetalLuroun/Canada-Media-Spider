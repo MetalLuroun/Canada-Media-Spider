{
 "cells": [
  {
   "cell_type": "code",
   "execution_count": 1,
   "metadata": {},
   "outputs": [],
   "source": [
    "import requests\n",
    "import json\n",
    "import csv\n",
    "from bs4 import BeautifulSoup"
   ]
  },
  {
   "cell_type": "code",
   "execution_count": 2,
   "metadata": {},
   "outputs": [
    {
     "name": "stdin",
     "output_type": "stream",
     "text": [
      "Enter your keyword you want to search on CBC :  china\n"
     ]
    }
   ],
   "source": [
    "keyword = input(\"Enter your keyword you want to search on CBC : \")"
   ]
  },
  {
   "cell_type": "code",
   "execution_count": 3,
   "metadata": {},
   "outputs": [],
   "source": [
    "url = \"https://www.cbc.ca/search_api/v1/search?q=china&sortOrder=relevance&media=all&page=1&fields=feed\"\n",
    "\n",
    "payload={}\n",
    "proxy = {\"http\":\"http://127.0.0.1:7890\"}\n",
    "headers = {\n",
    "  'Cookie': 'ak_bmsc=BCFA0EFD51299994F99272BAA0B8EF36CB4A4366867200008CF9D15FE146BB38~pl2LIPKFBQH/EK2obC7OAumwF639qrPwPsePvjfU87QrnOUKXhrFluflBoWrb3Vwxhhhlz9XwWkplZ1QDb/Gh17M1ZV5m6D/iAe3y1/lmIU4VA7ZOiQ/eq4MUivDa+DRtyqzeObyp74sJDvHB3ekeFVlRUI/dNqkGwGXpduxJszlzPXHpEOMSt0gUenwWqk2VMR6A/ySCpOMIpbWrcly5cAaElqOQ2d3Y656zQfhaumbE='\n",
    "}"
   ]
  },
  {
   "cell_type": "code",
   "execution_count": 4,
   "metadata": {},
   "outputs": [],
   "source": [
    "class Article:\n",
    "    times = 0\n",
    "    def __init__(self):\n",
    "        self.title = \"\"\n",
    "        self.description = \"\"\n",
    "        self.time = \"\"\n",
    "        self.url = \"\"\n",
    "        self.content = \"\"\n",
    "        Article.times = Article.times + 1\n",
    "    def printOne(self):\n",
    "        print(\"THIS IS \" + str(Article.times) + \"ARTICLE\")\n",
    "        print(self.title)\n",
    "        print(self.description)\n",
    "        print(self.time)\n",
    "        print(self.url)\n",
    "        print(self.content)\n",
    "    def getContent(self):\n",
    "        print(\"getting content from \"+ self.url + \"......\")\n",
    "        contentResponse = requests.request(\"GET\" , self.url, headers = headers , data = payload , proxies = proxy)\n",
    "        soup = BeautifulSoup(contentResponse.text , \"html.parser\")\n",
    "        for i in soup.find(class_ = \"story\").find_all(\"p\"):\n",
    "            self.content += i.get_text()\n",
    "        contentResponse.close()"
   ]
  },
  {
   "cell_type": "code",
   "execution_count": 5,
   "metadata": {},
   "outputs": [],
   "source": [
    "with open(keyword+'.csv', 'w', newline='' , encoding = \"utf-8\") as csvfile:\n",
    "    cbc_China = csv.writer(csvfile, delimiter=',', quoting=csv.QUOTE_MINIMAL)\n",
    "    cbc_China.writerow([\"title\"] + ['description'] + ['publishtime'] + ['url'] + ['content'])"
   ]
  },
  {
   "cell_type": "code",
   "execution_count": null,
   "metadata": {
    "scrolled": true
   },
   "outputs": [
    {
     "name": "stdout",
     "output_type": "stream",
     "text": [
      "Getting Index from https://www.cbc.ca/search_api/v1/search?q=china&sortOrder=relevance&media=all&page=1&fields=feed\n",
      "200\n",
      "this is the article : 1\n",
      "getting content from http://www.cbc.ca/news/politics/canada-china-pla-peoples-liberation-army-1.5838658......\n",
      "THIS IS 1ARTICLE\n",
      "Canada's ties to China's military underscore the weird contradictions in its foreign policy | CBC News\n",
      "It's been obvious for some time that there is something a little weird about the way Canada approaches its relationship with China — a disconnect brought into sharp relief this week by the news that Global Affairs and the Department of National Defence were not the same page when it came to military ties and training involving the People’s Liberation Army.\n",
      "2020-12-12T09:00:00.000Z\n",
      "http://www.cbc.ca/news/politics/canada-china-pla-peoples-liberation-army-1.5838658\n",
      "It's been obvious for some time that there is something weird about the way Canada approaches its relationship with China — a disconnect brought into sharp relief this week by the news that Global Affairs and the Department of National Defence were not on the same page when it came to military ties and training involving the People's Liberation Army.In some respects, the volcanic online political eruption which followed stories in The Globe and Mail and other media outlets, based on exclusive access to information documents, was predictable, as was the flurry of finger-pointing in the House of Commons on Thursday and Friday.Diplomats were alarmed when Gen. Jonathan Vance, the country's senior military commander, cancelled winter military exercises with the PLA in 2019, fretting that it might aggravate Beijing or make the lives of Michael Kovrig and Michael Spavor even worse.It makes for fire-breathing memes, sizzling copy and wonderful political theatre.What's missing, though, is a recognition that Canada's policy toward a rising China has been contradictory and incoherent for almost a decade, maybe more, said Charles Burton, a political scientist at Brock University in St. Catharines, Ont. and a respected China expert at the MacDonald-Laurier Institute.\"Cabinets were always split on China, whether it's Liberal or Conservative,\" said Burton, referring to debates more than three decades ago during the government of former prime minister Brian Mulroney.It is more urgent than ever, in the context of an increasingly belligerent and assertive China, to present a united political front, he added.\"This is really about the defence of our sovereignty and security on matters over which there is consensus across the political spectrum in Canada,\" he said.Defence Minister Harjit Sajjan, in an attempt at political damage control late this week, made a point of saying that Chinese troops are no longer training for winter warfare at Garrison Petawawa, Ont.He also (rather meekly) noted that the exchange and training program with the PLA was instituted in August 2013 under the Conservatives while defence critic James Bezan, one of the most vocal and fiery opponents this week, was parliamentary secretary of defence.Bezan's retort was along the lines of that was then, this is now.\"The defence minister knows full well that the Chinese government back then and the Chinese government today are completely different,\" Bezan said during question period on Thursday.It was a different time, no question.Chinese President Xi Jinping had taken office only a few months before, and the Department of National Defence (DND) tasking order that established the exchange program, obtained by CBC News under access to information, noted that working with the PLA \"complements the Government of Canada led efforts to broaden our bilateral relationship with China.\"After years of hectoring and hammering China, the Conservatives — under former prime minister Stephen Harper — had decided that limited engagement was the way to go.And here is where Canada's curious incoherence comes into play.At precisely the moment the former chief of the defence staff, the now-retired general Tom Lawson, was penning the Canadian military's marching orders on closer cooperation with the PLA, the foreign affairs ministry — led at the time by John Baird — was firing off flares about China's unilateral declaration of an air defence zone in the East China Sea.It was a bellwether moment.\"The U.S. has indicated deep concern over the establishment of the Chinese ADIZ stating that the U.S. views this development as a destabilizing attempt to alter the status quo in the region and that this move increases the risk of misunderstanding and miscalculations,\" said a Nov. 23, 2013 briefing note to Baird, obtained by CBC News in 2017.\"More broadly, the rise of China is reshaping the strategic landscape.\"Burton said the rise of President Xi marked the beginning of the new, more aggressive China. The establishment of the air zone — now largely forgotten against a backdrop of fortified artificial islands in the South China Sea, reports of Uyghurs in concentration camps and the haze of tear gas in Hong Kong — marked the first step.So were our politicians and senior leaders paying attention not only to events, but to what other federal departments were saying?According to what former foreign affairs minister (and current finance minister) Chrystia Freeland had to say in question period this week, the answer is yes.\"I have long personal experience reporting on authoritarian communist regimes and I am very aware of the threat they pose,\" she said.Here's the question no one seemed to ask this week: why was the military exchange and training program still going on even before hostage diplomacy swept up the two Michaels?National Defence is no stranger to suspicions about China, having spent an enormous amount of time quietly defending itself from cyberattacks purportedly launched by  Beijing or by groups associated with it.The Trump Administration has been tightening the screws on China from a diplomatic, security and trade perspective. It was the Americans who warned the country's current top military commander, Gen. Jonathan Vance, about continuing with the winter warfare exercises.And then, of course, there's debate over the telecom giant Huawei and its future in this country.The signs were all there, Burton said — but no one actually woke up to the problem until Kovrig and Spavor were imprisoned. The public has been galvanized, he added, but \"it doesn't seem to have penetrated fully to the senior levels of the political and economic elite.\"Burton said that — as weird as it might sound, with everything else that has happened — he believes there are some within the Canadian Establishment who still cling to the notion that if the \"consular cases of Spavor and Kovrig are resolved, we can go back\" to business as usual.\n",
      "-----------------------------------------------------------------------------------------\n",
      "this is the article : 2\n",
      "getting content from http://www.cbc.ca/player/play/1830449219677......\n"
     ]
    }
   ],
   "source": [
    "num = 1\n",
    "while True:\n",
    "    print('Getting Index from ' + \"https://www.cbc.ca/search_api/v1/search?q=china&sortOrder=relevance&media=all&page=\" + str(num) + \"&fields=feed\")\n",
    "    response = requests.request(\"GET\", \"https://www.cbc.ca/search_api/v1/search?q=china&sortOrder=relevance&media=all&page=\" + str(num) + \"&fields=feed\", headers=headers, data=payload , proxies = proxy)\n",
    "    print(response.status_code)\n",
    "    if not (response.status_code == 200):\n",
    "        print(\"----------请求已越界-----------------\")\n",
    "        break\n",
    "    else:\n",
    "        data = json.loads(response.text)\n",
    "        for i in data:\n",
    "            article = Article()\n",
    "            print(\"this is the article : \" + str(Article.times))\n",
    "            try:\n",
    "                article.title = i['title']\n",
    "            except:\n",
    "                pass\n",
    "\n",
    "            try:\n",
    "                article.description = i['description']\n",
    "            except:\n",
    "                pass\n",
    "            try:\n",
    "                article.time = i['publishtime']\n",
    "            except:\n",
    "                pass\n",
    "            try:\n",
    "                article.url = \"http:\" + i['url']\n",
    "                try:\n",
    "                    article.getContent()\n",
    "                except:\n",
    "                    article.content = \"Not Text Type\"\n",
    "            except:\n",
    "                pass\n",
    "            article.printOne()\n",
    "            with open(keyword+'.csv', 'a', newline='' , encoding = \"utf-8\") as csvfile:\n",
    "                cbc_China = csv.writer(csvfile, delimiter=',', quoting=csv.QUOTE_MINIMAL)\n",
    "                cbc_China.writerow([article.title]  + [article.description] + [article.time] + [article.url] + [article.content])\n",
    "            print(\"-----------------------------------------------------------------------------------------\")\n",
    "        num += 1\n",
    "        response.close()\n",
    "        time.sleep(5)"
   ]
  },
  {
   "cell_type": "code",
   "execution_count": null,
   "metadata": {},
   "outputs": [],
   "source": [
    "test = Article()\n",
    "test.url = \"https://www.cbc.ca/news/world/vaccine-sinopharm-uae-1.5833823\"\n",
    "test.getContent()\n",
    "print(test.content)"
   ]
  },
  {
   "cell_type": "code",
   "execution_count": null,
   "metadata": {},
   "outputs": [],
   "source": []
  }
 ],
 "metadata": {
  "kernelspec": {
   "display_name": "Python 3",
   "language": "python",
   "name": "python3"
  },
  "language_info": {
   "codemirror_mode": {
    "name": "ipython",
    "version": 3
   },
   "file_extension": ".py",
   "mimetype": "text/x-python",
   "name": "python",
   "nbconvert_exporter": "python",
   "pygments_lexer": "ipython3",
   "version": "3.8.5"
  }
 },
 "nbformat": 4,
 "nbformat_minor": 4
}
